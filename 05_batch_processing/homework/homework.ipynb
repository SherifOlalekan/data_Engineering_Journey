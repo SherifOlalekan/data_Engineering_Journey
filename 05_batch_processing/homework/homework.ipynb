{
 "cells": [
  {
   "cell_type": "code",
   "execution_count": 1,
   "id": "8f805d9b-d644-457a-a89e-2e483c0e0242",
   "metadata": {},
   "outputs": [],
   "source": [
    "import pyspark\n",
    "from pyspark.sql import SparkSession"
   ]
  },
  {
   "cell_type": "code",
   "execution_count": 2,
   "id": "16bade26-523c-4838-bd1f-0c729e4cb1ac",
   "metadata": {},
   "outputs": [
    {
     "name": "stderr",
     "output_type": "stream",
     "text": [
      "Setting default log level to \"WARN\".\n",
      "To adjust logging level use sc.setLogLevel(newLevel). For SparkR, use setLogLevel(newLevel).\n",
      "25/03/24 11:13:48 WARN NativeCodeLoader: Unable to load native-hadoop library for your platform... using builtin-java classes where applicable\n"
     ]
    }
   ],
   "source": [
    "spark = SparkSession.builder \\\n",
    "    .master(\"local[*]\") \\\n",
    "    .appName('test') \\\n",
    "    .getOrCreate()"
   ]
  },
  {
   "cell_type": "code",
   "execution_count": 4,
   "id": "2d73d313-c810-4ca8-8e46-b29b7045712d",
   "metadata": {},
   "outputs": [],
   "source": [
    "df = spark.read \\\n",
    "    .option(\"header\", \"true\") \\\n",
    "    .csv('taxi_zone_lookup.csv')"
   ]
  },
  {
   "cell_type": "code",
   "execution_count": 5,
   "id": "14332bbc-cd3f-4358-ac30-b350422ecb88",
   "metadata": {},
   "outputs": [
    {
     "name": "stdout",
     "output_type": "stream",
     "text": [
      "+----------+-------------+--------------------+------------+\n",
      "|LocationID|      Borough|                Zone|service_zone|\n",
      "+----------+-------------+--------------------+------------+\n",
      "|         1|          EWR|      Newark Airport|         EWR|\n",
      "|         2|       Queens|         Jamaica Bay|   Boro Zone|\n",
      "|         3|        Bronx|Allerton/Pelham G...|   Boro Zone|\n",
      "|         4|    Manhattan|       Alphabet City| Yellow Zone|\n",
      "|         5|Staten Island|       Arden Heights|   Boro Zone|\n",
      "|         6|Staten Island|Arrochar/Fort Wad...|   Boro Zone|\n",
      "|         7|       Queens|             Astoria|   Boro Zone|\n",
      "|         8|       Queens|        Astoria Park|   Boro Zone|\n",
      "|         9|       Queens|          Auburndale|   Boro Zone|\n",
      "|        10|       Queens|        Baisley Park|   Boro Zone|\n",
      "|        11|     Brooklyn|          Bath Beach|   Boro Zone|\n",
      "|        12|    Manhattan|        Battery Park| Yellow Zone|\n",
      "|        13|    Manhattan|   Battery Park City| Yellow Zone|\n",
      "|        14|     Brooklyn|           Bay Ridge|   Boro Zone|\n",
      "|        15|       Queens|Bay Terrace/Fort ...|   Boro Zone|\n",
      "|        16|       Queens|             Bayside|   Boro Zone|\n",
      "|        17|     Brooklyn|             Bedford|   Boro Zone|\n",
      "|        18|        Bronx|        Bedford Park|   Boro Zone|\n",
      "|        19|       Queens|           Bellerose|   Boro Zone|\n",
      "|        20|        Bronx|             Belmont|   Boro Zone|\n",
      "+----------+-------------+--------------------+------------+\n",
      "only showing top 20 rows\n",
      "\n"
     ]
    }
   ],
   "source": [
    "df.show()"
   ]
  },
  {
   "cell_type": "code",
   "execution_count": 7,
   "id": "dd16071a-7ee3-4fa1-9a11-1f06bb3fa243",
   "metadata": {},
   "outputs": [
    {
     "data": {
      "text/plain": [
       "'3.5.5'"
      ]
     },
     "execution_count": 7,
     "metadata": {},
     "output_type": "execute_result"
    }
   ],
   "source": [
    "pyspark.__version__"
   ]
  },
  {
   "cell_type": "code",
   "execution_count": 8,
   "id": "1ba793c2-f008-4f75-a6f5-ee642de29d35",
   "metadata": {},
   "outputs": [
    {
     "name": "stdout",
     "output_type": "stream",
     "text": [
      "--2025-03-24 11:32:42--  https://d37ci6vzurychx.cloudfront.net/trip-data/yellow_tripdata_2024-10.parquet\n",
      "Resolving d37ci6vzurychx.cloudfront.net (d37ci6vzurychx.cloudfront.net)... 3.164.82.160, 3.164.82.197, 3.164.82.40, ...\n",
      "Connecting to d37ci6vzurychx.cloudfront.net (d37ci6vzurychx.cloudfront.net)|3.164.82.160|:443... connected.\n",
      "HTTP request sent, awaiting response... 200 OK\n",
      "Length: 64346071 (61M) [binary/octet-stream]\n",
      "Saving to: ‘yellow_tripdata_2024-10.parquet’\n",
      "\n",
      "yellow_tripdata_202 100%[===================>]  61.36M  19.1MB/s    in 4.1s    \n",
      "\n",
      "2025-03-24 11:32:47 (14.9 MB/s) - ‘yellow_tripdata_2024-10.parquet’ saved [64346071/64346071]\n",
      "\n"
     ]
    }
   ],
   "source": [
    "!wget https://d37ci6vzurychx.cloudfront.net/trip-data/yellow_tripdata_2024-10.parquet"
   ]
  },
  {
   "cell_type": "code",
   "execution_count": 12,
   "id": "eee40af6-23e6-4475-9742-9ba4d72aeb87",
   "metadata": {},
   "outputs": [],
   "source": [
    "df_yellow_oct = spark.read \\\n",
    "    .option(\"header\", \"true\") \\\n",
    "    .parquet(\"yellow_tripdata_2024-10.parquet\")"
   ]
  },
  {
   "cell_type": "code",
   "execution_count": 18,
   "id": "75868b4a-4e9c-43be-847e-b5e49f26b022",
   "metadata": {},
   "outputs": [
    {
     "name": "stderr",
     "output_type": "stream",
     "text": [
      "                                                                                \r"
     ]
    }
   ],
   "source": [
    "df_yellow_oct \\\n",
    "        .repartition(4) \\\n",
    "        .write.parquet(\"tmp/yellow_oct\")"
   ]
  },
  {
   "cell_type": "code",
   "execution_count": 132,
   "id": "adade7f3-dda6-4d78-b33d-03a78499df0e",
   "metadata": {},
   "outputs": [
    {
     "data": {
      "text/plain": [
       "['VendorID',\n",
       " 'tpep_pickup_datetime',\n",
       " 'tpep_dropoff_datetime',\n",
       " 'passenger_count',\n",
       " 'trip_distance',\n",
       " 'RatecodeID',\n",
       " 'store_and_fwd_flag',\n",
       " 'PULocationID',\n",
       " 'DOLocationID',\n",
       " 'payment_type',\n",
       " 'fare_amount',\n",
       " 'extra',\n",
       " 'mta_tax',\n",
       " 'tip_amount',\n",
       " 'tolls_amount',\n",
       " 'improvement_surcharge',\n",
       " 'total_amount',\n",
       " 'congestion_surcharge',\n",
       " 'Airport_fee']"
      ]
     },
     "execution_count": 132,
     "metadata": {},
     "output_type": "execute_result"
    }
   ],
   "source": [
    "df_yellow_oct.columns"
   ]
  },
  {
   "cell_type": "code",
   "execution_count": 172,
   "id": "8fbaa135-6150-4c2c-954e-d86e9abcf360",
   "metadata": {},
   "outputs": [
    {
     "name": "stderr",
     "output_type": "stream",
     "text": [
      "[Stage 173:>                                                        (0 + 4) / 4]\r"
     ]
    },
    {
     "name": "stdout",
     "output_type": "stream",
     "text": [
      "+--------------------+--------+\n",
      "|                Zone|trip_num|\n",
      "+--------------------+--------+\n",
      "|Governor's Island...|       1|\n",
      "|       Rikers Island|       2|\n",
      "|       Arden Heights|       2|\n",
      "|         Jamaica Bay|       3|\n",
      "| Green-Wood Cemetery|       3|\n",
      "|Charleston/Totten...|       4|\n",
      "|   Rossville/Woodrow|       4|\n",
      "|       West Brighton|       4|\n",
      "|Eltingville/Annad...|       4|\n",
      "|       Port Richmond|       4|\n",
      "|         Great Kills|       6|\n",
      "|        Crotona Park|       6|\n",
      "|Heartland Village...|       7|\n",
      "|     Mariners Harbor|       7|\n",
      "|Saint George/New ...|       9|\n",
      "|             Oakwood|       9|\n",
      "|       Broad Channel|      10|\n",
      "|New Dorp/Midland ...|      10|\n",
      "|         Westerleigh|      12|\n",
      "|     Pelham Bay Park|      12|\n",
      "+--------------------+--------+\n",
      "only showing top 20 rows\n",
      "\n"
     ]
    },
    {
     "name": "stderr",
     "output_type": "stream",
     "text": [
      "                                                                                \r"
     ]
    }
   ],
   "source": [
    "spark.sql(\"\"\"\n",
    "SELECT\n",
    "    lookup_zones.Zone,\n",
    "    COUNT(1) as trip_num\n",
    "      \n",
    "FROM\n",
    "    oct_data\n",
    "\n",
    "INNER JOIN lookup_zones ON oct_data.PULocationID=lookup_zones.LocationID\n",
    "\n",
    "GROUP BY Zone\n",
    "ORDER BY trip_num ASC\n",
    "\n",
    "\"\"\").show()"
   ]
  },
  {
   "cell_type": "code",
   "execution_count": 20,
   "id": "bb046fb6-7770-4b0a-9f60-6c671f157b8b",
   "metadata": {},
   "outputs": [],
   "source": [
    "df_yellow_oct.createOrReplaceTempView('oct_data')"
   ]
  },
  {
   "cell_type": "code",
   "execution_count": 131,
   "id": "a7ea21ee-4ffc-4c31-b6db-2f79005d33e9",
   "metadata": {},
   "outputs": [
    {
     "name": "stderr",
     "output_type": "stream",
     "text": [
      "[Stage 135:==============>                                          (1 + 3) / 4]\r"
     ]
    },
    {
     "name": "stdout",
     "output_type": "stream",
     "text": [
      "+--------+--------------------+---------------------+------------------+-------------+\n",
      "|VendorID|tpep_pickup_datetime|tpep_dropoff_datetime|         hour_diff|trip_distance|\n",
      "+--------+--------------------+---------------------+------------------+-------------+\n",
      "|       2| 2024-10-16 13:03:49|  2024-10-23 07:40:53|162.61666666666667|        32.37|\n",
      "|       2| 2024-10-03 18:47:25|  2024-10-09 18:06:55|143.31666666666666|          0.0|\n",
      "|       2| 2024-10-22 16:00:55|  2024-10-28 09:46:33|            137.75|          0.0|\n",
      "|       2| 2024-10-18 09:53:32|  2024-10-23 04:43:37|114.83333333333333|        12.37|\n",
      "|       2| 2024-10-21 00:36:24|  2024-10-24 18:30:18| 89.88333333333334|         0.03|\n",
      "|       2| 2024-10-20 13:30:52|  2024-10-24 06:57:38| 89.43333333333334|         1.88|\n",
      "|       2| 2024-10-22 16:04:52|  2024-10-25 14:22:49| 70.28333333333333|         0.38|\n",
      "|       2| 2024-10-12 19:32:51|  2024-10-15 15:07:15| 67.56666666666666|         0.53|\n",
      "|       2| 2024-10-17 17:58:18|  2024-10-20 12:02:18| 66.06666666666666|         4.94|\n",
      "|       2| 2024-10-21 14:28:21|  2024-10-23 12:53:42|46.416666666666664|          0.0|\n",
      "|       2| 2024-10-20 18:58:28|  2024-10-22 13:17:00|              42.3|         3.84|\n",
      "|       2| 2024-10-24 20:29:58|  2024-10-26 10:58:25| 38.46666666666667|         9.85|\n",
      "|       2| 2024-10-23 23:52:02|  2024-10-25 09:49:06|             33.95|          0.0|\n",
      "|       2| 2024-10-02 10:36:50|  2024-10-03 12:54:45|26.283333333333335|         0.96|\n",
      "|       2| 2024-10-14 22:39:53|  2024-10-15 23:57:22|25.283333333333335|          4.8|\n",
      "|       2| 2024-10-15 11:49:15|  2024-10-16 13:03:33|25.233333333333334|          0.0|\n",
      "|       2| 2024-10-23 11:22:58|  2024-10-24 11:51:10|24.466666666666665|          0.0|\n",
      "|       2| 2024-10-11 17:38:23|  2024-10-12 17:37:31|23.983333333333334|         0.42|\n",
      "|       2| 2024-10-02 19:04:07|  2024-10-03 19:03:48|23.983333333333334|        18.88|\n",
      "|       2| 2024-10-14 20:22:20|  2024-10-15 20:22:03|23.983333333333334|         0.14|\n",
      "+--------+--------------------+---------------------+------------------+-------------+\n",
      "only showing top 20 rows\n",
      "\n"
     ]
    },
    {
     "name": "stderr",
     "output_type": "stream",
     "text": [
      "                                                                                \r"
     ]
    }
   ],
   "source": [
    "spark.sql(\"\"\"\n",
    "SELECT\n",
    "    VendorID,\n",
    "    tpep_pickup_datetime,\n",
    "    tpep_dropoff_datetime,\n",
    "    DATEDIFF(minute, tpep_pickup_datetime, tpep_dropoff_datetime)/60 AS hour_diff,\n",
    "    trip_distance\n",
    "    \n",
    "FROM\n",
    "    oct_data\n",
    "order by hour_diff DESC\n",
    "\"\"\").show()"
   ]
  },
  {
   "cell_type": "code",
   "execution_count": 146,
   "id": "21e34f5b-714d-400f-89bb-78d59b01b763",
   "metadata": {},
   "outputs": [],
   "source": [
    "# write to parquet\n",
    "df.write.parquet(\"lookup_zones\")"
   ]
  },
  {
   "cell_type": "code",
   "execution_count": 147,
   "id": "820cccf1-7178-46a3-acf1-80e9bed28053",
   "metadata": {},
   "outputs": [],
   "source": [
    "# Load the zone lookup data into a temp view in Spark\n",
    "df = spark.read.parquet(\"lookup_zones/part-00000-ee773c6e-6b73-419f-b3b9-a1bd783df62c-c000.snappy.parquet\")"
   ]
  },
  {
   "cell_type": "code",
   "execution_count": 148,
   "id": "75ef20f1-7282-404d-8552-891e30f0da82",
   "metadata": {},
   "outputs": [
    {
     "name": "stdout",
     "output_type": "stream",
     "text": [
      "+----------+-------------+--------------------+------------+\n",
      "|LocationID|      Borough|                Zone|service_zone|\n",
      "+----------+-------------+--------------------+------------+\n",
      "|         1|          EWR|      Newark Airport|         EWR|\n",
      "|         2|       Queens|         Jamaica Bay|   Boro Zone|\n",
      "|         3|        Bronx|Allerton/Pelham G...|   Boro Zone|\n",
      "|         4|    Manhattan|       Alphabet City| Yellow Zone|\n",
      "|         5|Staten Island|       Arden Heights|   Boro Zone|\n",
      "|         6|Staten Island|Arrochar/Fort Wad...|   Boro Zone|\n",
      "|         7|       Queens|             Astoria|   Boro Zone|\n",
      "|         8|       Queens|        Astoria Park|   Boro Zone|\n",
      "|         9|       Queens|          Auburndale|   Boro Zone|\n",
      "|        10|       Queens|        Baisley Park|   Boro Zone|\n",
      "|        11|     Brooklyn|          Bath Beach|   Boro Zone|\n",
      "|        12|    Manhattan|        Battery Park| Yellow Zone|\n",
      "|        13|    Manhattan|   Battery Park City| Yellow Zone|\n",
      "|        14|     Brooklyn|           Bay Ridge|   Boro Zone|\n",
      "|        15|       Queens|Bay Terrace/Fort ...|   Boro Zone|\n",
      "|        16|       Queens|             Bayside|   Boro Zone|\n",
      "|        17|     Brooklyn|             Bedford|   Boro Zone|\n",
      "|        18|        Bronx|        Bedford Park|   Boro Zone|\n",
      "|        19|       Queens|           Bellerose|   Boro Zone|\n",
      "|        20|        Bronx|             Belmont|   Boro Zone|\n",
      "+----------+-------------+--------------------+------------+\n",
      "only showing top 20 rows\n",
      "\n"
     ]
    }
   ],
   "source": [
    "df.show()"
   ]
  },
  {
   "cell_type": "code",
   "execution_count": 149,
   "id": "9194a37b-784c-4aaf-95a4-3d2c87ded33d",
   "metadata": {},
   "outputs": [],
   "source": [
    "df.createOrReplaceTempView('lookup_zones')"
   ]
  },
  {
   "cell_type": "code",
   "execution_count": null,
   "id": "3f8d258d-0d3f-4885-b88b-5f3fbd25a52a",
   "metadata": {},
   "outputs": [],
   "source": []
  }
 ],
 "metadata": {
  "kernelspec": {
   "display_name": "Python 3 (ipykernel)",
   "language": "python",
   "name": "python3"
  },
  "language_info": {
   "codemirror_mode": {
    "name": "ipython",
    "version": 3
   },
   "file_extension": ".py",
   "mimetype": "text/x-python",
   "name": "python",
   "nbconvert_exporter": "python",
   "pygments_lexer": "ipython3",
   "version": "3.12.7"
  }
 },
 "nbformat": 4,
 "nbformat_minor": 5
}
